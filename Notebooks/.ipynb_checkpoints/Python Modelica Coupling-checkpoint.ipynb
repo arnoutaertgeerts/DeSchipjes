{
 "metadata": {
  "name": "",
  "signature": "sha256:f032dabccf9d5a6923e408fef5ee758d7338e83ec766f10ecd348ebc93165458"
 },
 "nbformat": 3,
 "nbformat_minor": 0,
 "worksheets": []
}