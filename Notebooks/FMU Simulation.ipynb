{
 "metadata": {
  "name": "",
  "signature": "sha256:8a530447c95a4cddeb41f21062f82854c602555e3161c87b2f3e5d2f2e2b3a17"
 },
 "nbformat": 3,
 "nbformat_minor": 0,
 "worksheets": [
  {
   "cells": [
    {
     "cell_type": "code",
     "collapsed": false,
     "input": [
      "%matplotlib inline\n",
      "import matplotlib.pyplot as plt\n",
      "import pyfmi"
     ],
     "language": "python",
     "metadata": {},
     "outputs": [],
     "prompt_number": 5
    },
    {
     "cell_type": "code",
     "collapsed": false,
     "input": [
      "model = pyfmi.load_fmu(\"../Results/test.fmu\") # load model as FMU\n",
      "stop_t = 24*60*60 # simulation settings\n",
      "step_size = 60\n",
      "\n",
      "model.do_step(1,1) # initialize model\n",
      "# --------------start simulation loop----------------------------\n",
      "i = 0\n",
      "while i < stop_t :\n",
      " status = model.do_step(i, step_size) # perform simulation step\n",
      " if status != pyfmi.fmi.FMI_OK: # check simulation step\n",
      "     print \"error\"\n",
      "     break\n",
      "# --------------end simulation loop------------------------------"
     ],
     "language": "python",
     "metadata": {},
     "outputs": [
      {
       "ename": "AttributeError",
       "evalue": "'pyfmi.fmi.FMUModelME2' object has no attribute 'do_step'",
       "output_type": "pyerr",
       "traceback": [
        "\u001b[1;31m---------------------------------------------------------------------------\u001b[0m\n\u001b[1;31mAttributeError\u001b[0m                            Traceback (most recent call last)",
        "\u001b[1;32m<ipython-input-11-d506c899a193>\u001b[0m in \u001b[0;36m<module>\u001b[1;34m()\u001b[0m\n\u001b[0;32m      3\u001b[0m \u001b[0mstep_size\u001b[0m \u001b[1;33m=\u001b[0m \u001b[1;36m60\u001b[0m\u001b[1;33m\u001b[0m\u001b[0m\n\u001b[0;32m      4\u001b[0m \u001b[1;33m\u001b[0m\u001b[0m\n\u001b[1;32m----> 5\u001b[1;33m \u001b[0mmodel\u001b[0m\u001b[1;33m.\u001b[0m\u001b[0mdo_step\u001b[0m\u001b[1;33m(\u001b[0m\u001b[1;36m1\u001b[0m\u001b[1;33m,\u001b[0m\u001b[1;36m1\u001b[0m\u001b[1;33m)\u001b[0m \u001b[1;31m# initialize model\u001b[0m\u001b[1;33m\u001b[0m\u001b[0m\n\u001b[0m\u001b[0;32m      6\u001b[0m \u001b[1;31m# --------------start simulation loop----------------------------\u001b[0m\u001b[1;33m\u001b[0m\u001b[1;33m\u001b[0m\u001b[0m\n\u001b[0;32m      7\u001b[0m \u001b[0mi\u001b[0m \u001b[1;33m=\u001b[0m \u001b[1;36m0\u001b[0m\u001b[1;33m\u001b[0m\u001b[0m\n",
        "\u001b[1;31mAttributeError\u001b[0m: 'pyfmi.fmi.FMUModelME2' object has no attribute 'do_step'"
       ]
      }
     ],
     "prompt_number": 11
    },
    {
     "cell_type": "code",
     "collapsed": false,
     "input": [
      "model.simulate(1)"
     ],
     "language": "python",
     "metadata": {},
     "outputs": [
      {
       "ename": "FMUException",
       "evalue": "Enter Initialize returned with an error. Enable logging for more information, (FMUModel(..., enable_logging=True)).",
       "output_type": "pyerr",
       "traceback": [
        "\u001b[1;31m---------------------------------------------------------------------------\u001b[0m\n\u001b[1;31mFMUException\u001b[0m                              Traceback (most recent call last)",
        "\u001b[1;32m<ipython-input-12-053ed732b9ed>\u001b[0m in \u001b[0;36m<module>\u001b[1;34m()\u001b[0m\n\u001b[1;32m----> 1\u001b[1;33m \u001b[0mmodel\u001b[0m\u001b[1;33m.\u001b[0m\u001b[0msimulate\u001b[0m\u001b[1;33m(\u001b[0m\u001b[1;36m1\u001b[0m\u001b[1;33m)\u001b[0m\u001b[1;33m\u001b[0m\u001b[0m\n\u001b[0m",
        "\u001b[1;32m/home/arnout/Software/JModelica/Python/pyfmi/fmi.so\u001b[0m in \u001b[0;36mpyfmi.fmi.FMUModelME2.simulate (src/pyfmi/fmi.c:58986)\u001b[1;34m()\u001b[0m\n",
        "\u001b[1;32m/home/arnout/Software/JModelica/Python/pyfmi/fmi.so\u001b[0m in \u001b[0;36mpyfmi.fmi.ModelBase._exec_simulate_algorithm (src/pyfmi/fmi.c:5280)\u001b[1;34m()\u001b[0m\n",
        "\u001b[1;32m/home/arnout/Software/JModelica/Python/pyfmi/fmi_algorithm_drivers.pyc\u001b[0m in \u001b[0;36m__init__\u001b[1;34m(self, start_time, final_time, input, model, options)\u001b[0m\n\u001b[0;32m    515\u001b[0m             \u001b[1;32melif\u001b[0m \u001b[0misinstance\u001b[0m\u001b[1;33m(\u001b[0m\u001b[0mself\u001b[0m\u001b[1;33m.\u001b[0m\u001b[0mmodel\u001b[0m\u001b[1;33m,\u001b[0m \u001b[0mfmi\u001b[0m\u001b[1;33m.\u001b[0m\u001b[0mFMUModelME2\u001b[0m\u001b[1;33m)\u001b[0m\u001b[1;33m:\u001b[0m\u001b[1;33m\u001b[0m\u001b[0m\n\u001b[0;32m    516\u001b[0m                 \u001b[0mself\u001b[0m\u001b[1;33m.\u001b[0m\u001b[0mmodel\u001b[0m\u001b[1;33m.\u001b[0m\u001b[0msetup_experiment\u001b[0m\u001b[1;33m(\u001b[0m\u001b[0mtolerance\u001b[0m\u001b[1;33m=\u001b[0m\u001b[0mrtol\u001b[0m\u001b[1;33m,\u001b[0m \u001b[0mstart_time\u001b[0m\u001b[1;33m=\u001b[0m\u001b[0mself\u001b[0m\u001b[1;33m.\u001b[0m\u001b[0mstart_time\u001b[0m\u001b[1;33m,\u001b[0m \u001b[0mstop_time\u001b[0m\u001b[1;33m=\u001b[0m\u001b[0mself\u001b[0m\u001b[1;33m.\u001b[0m\u001b[0mfinal_time\u001b[0m\u001b[1;33m)\u001b[0m\u001b[1;33m\u001b[0m\u001b[0m\n\u001b[1;32m--> 517\u001b[1;33m                 \u001b[0mself\u001b[0m\u001b[1;33m.\u001b[0m\u001b[0mmodel\u001b[0m\u001b[1;33m.\u001b[0m\u001b[0minitialize\u001b[0m\u001b[1;33m(\u001b[0m\u001b[1;33m)\u001b[0m\u001b[1;33m\u001b[0m\u001b[0m\n\u001b[0m\u001b[0;32m    518\u001b[0m                 \u001b[0mself\u001b[0m\u001b[1;33m.\u001b[0m\u001b[0mmodel\u001b[0m\u001b[1;33m.\u001b[0m\u001b[0mevent_update\u001b[0m\u001b[1;33m(\u001b[0m\u001b[1;33m)\u001b[0m\u001b[1;33m\u001b[0m\u001b[0m\n\u001b[0;32m    519\u001b[0m                 \u001b[0mself\u001b[0m\u001b[1;33m.\u001b[0m\u001b[0mmodel\u001b[0m\u001b[1;33m.\u001b[0m\u001b[0menter_continuous_time_mode\u001b[0m\u001b[1;33m(\u001b[0m\u001b[1;33m)\u001b[0m\u001b[1;33m\u001b[0m\u001b[0m\n",
        "\u001b[1;32m/home/arnout/Software/JModelica/Python/pyfmi/fmi.so\u001b[0m in \u001b[0;36mpyfmi.fmi.FMUModelBase2.initialize (src/pyfmi/fmi.c:36358)\u001b[1;34m()\u001b[0m\n",
        "\u001b[1;31mFMUException\u001b[0m: Enter Initialize returned with an error. Enable logging for more information, (FMUModel(..., enable_logging=True))."
       ]
      }
     ],
     "prompt_number": 12
    },
    {
     "cell_type": "code",
     "collapsed": false,
     "input": [
      "model.get_log()"
     ],
     "language": "python",
     "metadata": {},
     "outputs": [
      {
       "metadata": {},
       "output_type": "pyout",
       "prompt_number": 13,
       "text": [
        "[\"FMIL: module = FMI2XML, log level = 2: Attribute 'factor' cannot be equal to zero\",\n",
        " \"FMIL: module = FMI2XML, log level = 2: Attribute 'factor' cannot be equal to zero\",\n",
        " 'FMIL: module = FMI2XML, log level = 2: The derivative attribute may only appear on continuous-time Real variables.',\n",
        " 'FMIL: module = FMI2XML, log level = 2: The derivative attribute may only appear on continuous-time Real variables.',\n",
        " 'FMIL: module = FMI2XML, log level = 2: The derivative attribute may only appear on continuous-time Real variables.',\n",
        " 'FMIL: module = FMI2XML, log level = 2: The derivative attribute may only appear on continuous-time Real variables.',\n",
        " 'FMIL: module = FMI2XML, log level = 2: The derivative attribute may only appear on continuous-time Real variables.',\n",
        " 'FMIL: module = FMI2XML, log level = 2: The derivative attribute may only appear on continuous-time Real variables.',\n",
        " 'FMIL: module = FMI2XML, log level = 2: The derivative attribute may only appear on continuous-time Real variables.',\n",
        " 'FMIL: module = FMI2XML, log level = 2: The derivative attribute may only appear on continuous-time Real variables.',\n",
        " 'FMIL: module = FMI2XML, log level = 2: The derivative attribute may only appear on continuous-time Real variables.',\n",
        " 'FMIL: module = FMI2XML, log level = 2: The derivative attribute may only appear on continuous-time Real variables.',\n",
        " 'FMIL: module = FMI2XML, log level = 2: The derivative attribute may only appear on continuous-time Real variables.',\n",
        " 'FMIL: module = FMI2XML, log level = 2: The derivative attribute may only appear on continuous-time Real variables.',\n",
        " 'FMIL: module = FMI2XML, log level = 2: The derivative attribute may only appear on continuous-time Real variables.',\n",
        " 'FMIL: module = FMI2XML, log level = 2: The derivative attribute may only appear on continuous-time Real variables.',\n",
        " 'FMIL: module = FMI2XML, log level = 2: The derivative attribute may only appear on continuous-time Real variables.',\n",
        " 'FMIL: module = FMI2XML, log level = 2: The derivative attribute may only appear on continuous-time Real variables.',\n",
        " 'FMIL: module = FMI2XML, log level = 2: The derivative attribute may only appear on continuous-time Real variables.',\n",
        " 'FMIL: module = FMI2XML, log level = 2: The derivative attribute may only appear on continuous-time Real variables.',\n",
        " 'FMIL: module = FMI2XML, log level = 2: The derivative attribute may only appear on continuous-time Real variables.',\n",
        " 'FMIL: module = FMI2XML, log level = 2: The derivative attribute may only appear on continuous-time Real variables.',\n",
        " 'FMIL: module = FMI2XML, log level = 2: The derivative attribute may only appear on continuous-time Real variables.',\n",
        " 'FMIL: module = FMI2XML, log level = 2: The derivative attribute may only appear on continuous-time Real variables.',\n",
        " 'FMIL: module = FMI2XML, log level = 2: The derivative attribute may only appear on continuous-time Real variables.',\n",
        " 'FMIL: module = FMI2XML, log level = 2: The derivative attribute may only appear on continuous-time Real variables.',\n",
        " \"FMIL: module = FMI2XML, log level = 2: Start attribute is not allowed for variables with initial='calculated'\",\n",
        " 'FMIL: module = FMI2XML, log level = 2: The derivative attribute may only appear on continuous-time Real variables.',\n",
        " 'FMIL: module = FMI2XML, log level = 2: The derivative attribute may only appear on continuous-time Real variables.',\n",
        " 'FMIL: module = FMI2XML, log level = 2: The derivative attribute may only appear on continuous-time Real variables.',\n",
        " 'FMIL: module = FMI2XML, log level = 2: The derivative attribute may only appear on continuous-time Real variables.',\n",
        " 'FMIL: module = FMI2XML, log level = 2: The derivative attribute may only appear on continuous-time Real variables.',\n",
        " 'FMIL: module = FMI2XML, log level = 2: The derivative attribute may only appear on continuous-time Real variables.',\n",
        " 'FMIL: module = FMI2XML, log level = 2: The derivative attribute may only appear on continuous-time Real variables.',\n",
        " 'FMIL: module = FMI2XML, log level = 2: The derivative attribute may only appear on continuous-time Real variables.',\n",
        " 'FMIL: module = FMI2XML, log level = 2: The derivative attribute may only appear on continuous-time Real variables.',\n",
        " 'FMIL: module = FMI2XML, log level = 2: The derivative attribute may only appear on continuous-time Real variables.',\n",
        " 'FMIL: module = FMI2XML, log level = 2: The derivative attribute may only appear on continuous-time Real variables.',\n",
        " 'FMIL: module = FMI2XML, log level = 2: The derivative attribute may only appear on continuous-time Real variables.',\n",
        " 'FMIL: module = FMI2XML, log level = 2: The derivative attribute may only appear on continuous-time Real variables.',\n",
        " 'FMIL: module = FMI2XML, log level = 2: The derivative attribute may only appear on continuous-time Real variables.',\n",
        " 'FMIL: module = FMI2XML, log level = 2: The derivative attribute may only appear on continuous-time Real variables.',\n",
        " 'FMIL: module = FMI2XML, log level = 2: The derivative attribute may only appear on continuous-time Real variables.',\n",
        " 'FMIL: module = FMI2XML, log level = 2: The derivative attribute may only appear on continuous-time Real variables.',\n",
        " 'FMIL: module = FMI2XML, log level = 2: The derivative attribute may only appear on continuous-time Real variables.',\n",
        " 'FMIL: module = FMI2XML, log level = 2: The derivative attribute may only appear on continuous-time Real variables.',\n",
        " 'FMIL: module = FMI2XML, log level = 2: The derivative attribute may only appear on continuous-time Real variables.',\n",
        " 'FMIL: module = FMI2XML, log level = 2: The derivative attribute may only appear on continuous-time Real variables.',\n",
        " 'FMIL: module = FMI2XML, log level = 2: The derivative attribute may only appear on continuous-time Real variables.',\n",
        " 'FMIL: module = FMI2XML, log level = 2: The derivative attribute may only appear on continuous-time Real variables.',\n",
        " 'FMIL: module = FMI2XML, log level = 2: The derivative attribute may only appear on continuous-time Real variables.',\n",
        " 'FMIL: module = FMI2XML, log level = 2: The derivative attribute may only appear on continuous-time Real variables.',\n",
        " 'FMIL: module = FMI2XML, log level = 2: The derivative attribute may only appear on continuous-time Real variables.',\n",
        " 'FMIL: module = FMI2XML, log level = 2: The derivative attribute may only appear on continuous-time Real variables.',\n",
        " 'FMIL: module = FMI2XML, log level = 2: The derivative attribute may only appear on continuous-time Real variables.',\n",
        " 'FMIL: module = FMI2XML, log level = 2: The derivative attribute may only appear on continuous-time Real variables.',\n",
        " 'FMIL: module = FMI2XML, log level = 2: The derivative attribute may only appear on continuous-time Real variables.',\n",
        " 'FMIL: module = FMI2XML, log level = 2: The derivative attribute may only appear on continuous-time Real variables.',\n",
        " 'FMIL: module = FMI2XML, log level = 2: The derivative attribute may only appear on continuous-time Real variables.',\n",
        " 'FMIL: module = FMI2XML, log level = 2: The derivative attribute may only appear on continuous-time Real variables.',\n",
        " 'FMIL: module = FMI2XML, log level = 2: The derivative attribute may only appear on continuous-time Real variables.',\n",
        " 'FMIL: module = FMI2XML, log level = 2: The derivative attribute may only appear on continuous-time Real variables.',\n",
        " 'FMIL: module = FMI2XML, log level = 2: The derivative attribute may only appear on continuous-time Real variables.',\n",
        " \"FMIL: module = FMI2XML, log level = 2: Start attribute is not allowed for variables with initial='calculated'\",\n",
        " 'FMIL: module = FMI2XML, log level = 2: The derivative attribute may only appear on continuous-time Real variables.',\n",
        " 'FMIL: module = FMI2XML, log level = 2: The derivative attribute may only appear on continuous-time Real variables.',\n",
        " 'FMIL: module = FMI2XML, log level = 2: The derivative attribute may only appear on continuous-time Real variables.',\n",
        " 'FMIL: module = FMI2XML, log level = 2: The derivative attribute may only appear on continuous-time Real variables.',\n",
        " 'FMIL: module = FMI2XML, log level = 2: The derivative attribute may only appear on continuous-time Real variables.',\n",
        " 'FMIL: module = FMI2XML, log level = 2: The derivative attribute may only appear on continuous-time Real variables.',\n",
        " 'FMIL: module = FMI2XML, log level = 2: The derivative attribute may only appear on continuous-time Real variables.',\n",
        " 'FMIL: module = FMI2XML, log level = 2: The derivative attribute may only appear on continuous-time Real variables.',\n",
        " 'FMIL: module = FMI2XML, log level = 2: The derivative attribute may only appear on continuous-time Real variables.',\n",
        " 'FMIL: module = FMI2XML, log level = 2: The derivative attribute may only appear on continuous-time Real variables.',\n",
        " 'FMIL: module = FMI2XML, log level = 2: The derivative attribute may only appear on continuous-time Real variables.',\n",
        " 'FMIL: module = FMI2XML, log level = 2: The derivative attribute may only appear on continuous-time Real variables.',\n",
        " 'FMIL: module = FMI2XML, log level = 2: The derivative attribute may only appear on continuous-time Real variables.',\n",
        " 'FMIL: module = FMI2XML, log level = 2: The derivative attribute may only appear on continuous-time Real variables.',\n",
        " 'FMIL: module = FMI2XML, log level = 2: The derivative attribute may only appear on continuous-time Real variables.',\n",
        " 'FMIL: module = FMI2XML, log level = 2: The derivative attribute may only appear on continuous-time Real variables.',\n",
        " 'FMIL: module = FMI2XML, log level = 2: The derivative attribute may only appear on continuous-time Real variables.',\n",
        " 'FMIL: module = FMI2XML, log level = 2: The derivative attribute may only appear on continuous-time Real variables.',\n",
        " 'FMIL: module = Model, log level = 2: [][FMU status:Error] fmiInitialize: dsblock_ failed, QiErr = 1',\n",
        " 'FMIL: module = Model, log level = 2: [][FMU status:Error] Unless otherwise indicated by error messages, possible errors are (non-exhaustive):',\n",
        " 'The model references external data that is not present on the target machine, at least not with the same location.',\n",
        " '']"
       ]
      }
     ],
     "prompt_number": 13
    },
    {
     "cell_type": "code",
     "collapsed": false,
     "input": [],
     "language": "python",
     "metadata": {},
     "outputs": []
    }
   ],
   "metadata": {}
  }
 ]
}