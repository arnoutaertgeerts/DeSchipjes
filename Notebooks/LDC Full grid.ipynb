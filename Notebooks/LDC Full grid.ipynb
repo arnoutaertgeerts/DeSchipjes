{
 "metadata": {
  "name": "",
  "signature": "sha256:573d5890691b6f9ce1bea604f6ba6b6d291eb3987f12182f119a7f38621b57ad"
 },
 "nbformat": 3,
 "nbformat_minor": 0,
 "worksheets": [
  {
   "cells": [
    {
     "cell_type": "code",
     "collapsed": false,
     "input": [
      "from modelicares import SimRes, SimResList\n",
      "%matplotlib inline\n",
      "import matplotlib.pyplot as plt\n",
      "import numpy as np\n",
      "import datetime"
     ],
     "language": "python",
     "metadata": {},
     "outputs": [],
     "prompt_number": 1
    },
    {
     "cell_type": "code",
     "collapsed": false,
     "input": [
      "fulldata = SimResList('/home/arnout/Dymola/Work/node3/S4LTIdeal.mat')"
     ],
     "language": "python",
     "metadata": {},
     "outputs": [],
     "prompt_number": 2
    },
    {
     "cell_type": "code",
     "collapsed": false,
     "input": [
      "load_names = ['grid.haarhakkerHouse' + str(s) + '.heatingSystem.QHeaSys' for s in range(1,6)] + ['grid.petersleiHouse' + str(s) + '.heatingSystem.QHeaSys' for s in range(5,12)]\n",
      "\n",
      "\n",
      "description = {\n",
      "    'hea.Q_flow': {\n",
      "        'label': 'Total load of the system',\n",
      "        'unit': 'W'\n",
      "    },\n",
      "    'buildingTest.heatingSystem.QHeaSys': {\n",
      "        'label': 'Space heating load',\n",
      "        'unit': 'W'\n",
      "    }\n",
      "}\n",
      "\n",
      "# Equi-distant time vector\n",
      "minutes = 15\n",
      "points = 2419200 / (60*minutes)\n",
      "t = [60*minutes*i for i in range(24*(60/minutes), points)]\n",
      "dates = map(datetime.datetime.fromtimestamp, t)\n",
      "Te = []\n",
      "for value in fulldata['grid.sim.Te'][0].values(t):\n",
      "    Te.append(value._value - 273.15)    \n",
      "\n",
      "# Get the loads at times t\n",
      "loads = dict()\n",
      "for name in load_names:\n",
      "    loads[name] = fulldata[name].values(t)"
     ],
     "language": "python",
     "metadata": {},
     "outputs": [
      {
       "ename": "LookupError",
       "evalue": "grid.haarhakkerHouse1.heatingSystem.QHeaSys isn't a valid variable name.\n\nDid you mean one of these?\n       grid.haarhakkerHouse1.heatingSystem.isHea\n       grid.haarhakkerHouse5.heatingSystem.isHea\n       grid.haarhakkerHouse4.heatingSystem.isHea",
       "output_type": "pyerr",
       "traceback": [
        "\u001b[1;31m---------------------------------------------------------------------------\u001b[0m\n\u001b[1;31mLookupError\u001b[0m                               Traceback (most recent call last)",
        "\u001b[1;32m<ipython-input-14-234ab1826516>\u001b[0m in \u001b[0;36m<module>\u001b[1;34m()\u001b[0m\n\u001b[0;32m     25\u001b[0m \u001b[0mloads\u001b[0m \u001b[1;33m=\u001b[0m \u001b[0mdict\u001b[0m\u001b[1;33m(\u001b[0m\u001b[1;33m)\u001b[0m\u001b[1;33m\u001b[0m\u001b[0m\n\u001b[0;32m     26\u001b[0m \u001b[1;32mfor\u001b[0m \u001b[0mname\u001b[0m \u001b[1;32min\u001b[0m \u001b[0mload_names\u001b[0m\u001b[1;33m:\u001b[0m\u001b[1;33m\u001b[0m\u001b[0m\n\u001b[1;32m---> 27\u001b[1;33m     \u001b[0mloads\u001b[0m\u001b[1;33m[\u001b[0m\u001b[0mname\u001b[0m\u001b[1;33m]\u001b[0m \u001b[1;33m=\u001b[0m \u001b[0mfulldata\u001b[0m\u001b[1;33m[\u001b[0m\u001b[0mname\u001b[0m\u001b[1;33m]\u001b[0m\u001b[1;33m.\u001b[0m\u001b[0mvalues\u001b[0m\u001b[1;33m(\u001b[0m\u001b[0mt\u001b[0m\u001b[1;33m)\u001b[0m\u001b[1;33m\u001b[0m\u001b[0m\n\u001b[0m",
        "\u001b[1;32m/home/arnout/anaconda/lib/python2.7/site-packages/ModelicaRes-0.12.2_121_g93bf894-py2.7.egg/modelicares/simres.pyc\u001b[0m in \u001b[0;36m__getitem__\u001b[1;34m(self, i)\u001b[0m\n\u001b[0;32m   2221\u001b[0m         \u001b[1;32melif\u001b[0m \u001b[0misinstance\u001b[0m\u001b[1;33m(\u001b[0m\u001b[0mi\u001b[0m\u001b[1;33m,\u001b[0m \u001b[0mstring_types\u001b[0m\u001b[1;33m)\u001b[0m\u001b[1;33m:\u001b[0m\u001b[1;33m\u001b[0m\u001b[0m\n\u001b[0;32m   2222\u001b[0m             \u001b[1;31m# Return a list containing the variable from each simulation.\u001b[0m\u001b[1;33m\u001b[0m\u001b[1;33m\u001b[0m\u001b[0m\n\u001b[1;32m-> 2223\u001b[1;33m             \u001b[1;32mreturn\u001b[0m \u001b[0mVarList\u001b[0m\u001b[1;33m(\u001b[0m\u001b[1;33m[\u001b[0m\u001b[0msim\u001b[0m\u001b[1;33m[\u001b[0m\u001b[0mi\u001b[0m\u001b[1;33m]\u001b[0m \u001b[1;32mfor\u001b[0m \u001b[0msim\u001b[0m \u001b[1;32min\u001b[0m \u001b[0mself\u001b[0m\u001b[1;33m]\u001b[0m\u001b[1;33m)\u001b[0m\u001b[1;33m\u001b[0m\u001b[0m\n\u001b[0m\u001b[0;32m   2224\u001b[0m         \u001b[1;31m# Return a single simulation (SimRes instance).\u001b[0m\u001b[1;33m\u001b[0m\u001b[1;33m\u001b[0m\u001b[0m\n\u001b[0;32m   2225\u001b[0m         \u001b[1;32mreturn\u001b[0m \u001b[0mlist\u001b[0m\u001b[1;33m.\u001b[0m\u001b[0m__getitem__\u001b[0m\u001b[1;33m(\u001b[0m\u001b[0mself\u001b[0m\u001b[1;33m,\u001b[0m \u001b[0mi\u001b[0m\u001b[1;33m)\u001b[0m\u001b[1;33m\u001b[0m\u001b[0m\n",
        "\u001b[1;32m/home/arnout/anaconda/lib/python2.7/site-packages/ModelicaRes-0.12.2_121_g93bf894-py2.7.egg/modelicares/simres.pyc\u001b[0m in \u001b[0;36m__getitem__\u001b[1;34m(self, key)\u001b[0m\n\u001b[0;32m   1707\u001b[0m                 msg += \"\\n       \".join([\"\\n\\nDid you mean one of these?\"]\n\u001b[0;32m   1708\u001b[0m                                         + close_matches)\n\u001b[1;32m-> 1709\u001b[1;33m             \u001b[1;32mraise\u001b[0m \u001b[0mLookupError\u001b[0m\u001b[1;33m(\u001b[0m\u001b[0mmsg\u001b[0m\u001b[1;33m)\u001b[0m\u001b[1;33m\u001b[0m\u001b[0m\n\u001b[0m\u001b[0;32m   1710\u001b[0m \u001b[1;33m\u001b[0m\u001b[0m\n\u001b[0;32m   1711\u001b[0m     \u001b[1;32mdef\u001b[0m \u001b[0m__getattr__\u001b[0m\u001b[1;33m(\u001b[0m\u001b[0mself\u001b[0m\u001b[1;33m,\u001b[0m \u001b[0mattr\u001b[0m\u001b[1;33m)\u001b[0m\u001b[1;33m:\u001b[0m\u001b[1;33m\u001b[0m\u001b[0m\n",
        "\u001b[1;31mLookupError\u001b[0m: grid.haarhakkerHouse1.heatingSystem.QHeaSys isn't a valid variable name.\n\nDid you mean one of these?\n       grid.haarhakkerHouse1.heatingSystem.isHea\n       grid.haarhakkerHouse5.heatingSystem.isHea\n       grid.haarhakkerHouse4.heatingSystem.isHea"
       ]
      }
     ],
     "prompt_number": 14
    },
    {
     "cell_type": "code",
     "collapsed": false,
     "input": [
      "print range(1,5)"
     ],
     "language": "python",
     "metadata": {},
     "outputs": [
      {
       "output_type": "stream",
       "stream": "stdout",
       "text": [
        "[1, 2, 3, 4]\n"
       ]
      }
     ],
     "prompt_number": 4
    },
    {
     "cell_type": "code",
     "collapsed": false,
     "input": [
      "28*24*3600"
     ],
     "language": "python",
     "metadata": {},
     "outputs": [
      {
       "metadata": {},
       "output_type": "pyout",
       "prompt_number": 8,
       "text": [
        "2419200"
       ]
      }
     ],
     "prompt_number": 8
    },
    {
     "cell_type": "code",
     "collapsed": false,
     "input": [],
     "language": "python",
     "metadata": {},
     "outputs": []
    }
   ],
   "metadata": {}
  }
 ]
}