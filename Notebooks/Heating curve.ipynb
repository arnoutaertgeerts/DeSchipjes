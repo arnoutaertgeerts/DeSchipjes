{
 "metadata": {
  "name": "",
  "signature": "sha256:4b89c3f1c68d71452b6c2303a088211fda169f1b90af3ccae6f1d8119988d539"
 },
 "nbformat": 3,
 "nbformat_minor": 0,
 "worksheets": [
  {
   "cells": [
    {
     "cell_type": "markdown",
     "metadata": {},
     "source": [
      "## Imports"
     ]
    },
    {
     "cell_type": "code",
     "collapsed": false,
     "input": [
      "import gc\n",
      "import modelicares as mod\n",
      "import numpy as np\n",
      "import pandas as pd\n",
      "%matplotlib inline\n",
      "import matplotlib.pyplot as plt"
     ],
     "language": "python",
     "metadata": {},
     "outputs": [],
     "prompt_number": 1
    },
    {
     "cell_type": "markdown",
     "metadata": {},
     "source": [
      "   \n",
      "  Data files"
     ]
    },
    {
     "cell_type": "code",
     "collapsed": false,
     "input": [
      "h2 = mod.SimRes('../Results/haarhakker-year-occ2.mat')\n",
      "gc.collect()\n",
      "h3 = mod.SimRes('../Results/haarhakker-year-occ3.mat') \n",
      "gc.collect()\n",
      "h4 = mod.SimRes('../Results/haarhakker-year-occ4.mat')"
     ],
     "language": "python",
     "metadata": {},
     "outputs": []
    },
    {
     "cell_type": "code",
     "collapsed": false,
     "input": [
      "gc.collect()\n",
      "p5 = mod.SimRes('../Results/peterslei-year-occ5.mat')\n",
      "gc.collect()\n",
      "p6 = mod.SimRes('../Results/peterslei-year-occ6.mat')"
     ],
     "language": "python",
     "metadata": {},
     "outputs": []
    },
    {
     "cell_type": "code",
     "collapsed": false,
     "input": [
      "import sys\n",
      "print 'MB:', str(sys.getsizeof(h4)*10e-6)"
     ],
     "language": "python",
     "metadata": {},
     "outputs": [
      {
       "output_type": "stream",
       "stream": "stdout",
       "text": [
        "MB: 7.86572\n"
       ]
      }
     ],
     "prompt_number": 5
    },
    {
     "cell_type": "code",
     "collapsed": false,
     "input": [
      "import gc\n",
      "gc.collect()"
     ],
     "language": "python",
     "metadata": {},
     "outputs": [
      {
       "metadata": {},
       "output_type": "pyout",
       "prompt_number": 18,
       "text": [
        "7"
       ]
      }
     ],
     "prompt_number": 18
    },
    {
     "cell_type": "code",
     "collapsed": false,
     "input": [
      "gc.get_referrers()"
     ],
     "language": "python",
     "metadata": {},
     "outputs": [
      {
       "metadata": {},
       "output_type": "pyout",
       "prompt_number": 22,
       "text": [
        "[]"
       ]
      }
     ],
     "prompt_number": 22
    },
    {
     "cell_type": "code",
     "collapsed": false,
     "input": [],
     "language": "python",
     "metadata": {},
     "outputs": []
    }
   ],
   "metadata": {}
  }
 ]
}