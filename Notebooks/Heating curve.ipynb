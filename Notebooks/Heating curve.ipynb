{
 "metadata": {
  "name": "",
  "signature": "sha256:550d10340ba7bdab5c11dae74d0aeee8986132d67983310c8d7d89da54cb02f7"
 },
 "nbformat": 3,
 "nbformat_minor": 0,
 "worksheets": [
  {
   "cells": [
    {
     "cell_type": "markdown",
     "metadata": {},
     "source": [
      "## Imports"
     ]
    },
    {
     "cell_type": "code",
     "collapsed": false,
     "input": [
      "import modelicares as mod\n",
      "import numpy as np\n",
      "import pandas as pd\n",
      "%matplotlib inline\n",
      "import matplotlib.pyplot as plt\n",
      "\n",
      "simulators = mod.simulators"
     ],
     "language": "python",
     "metadata": {},
     "outputs": [],
     "prompt_number": 1
    },
    {
     "cell_type": "markdown",
     "metadata": {},
     "source": [
      "File locations and simulation settings"
     ]
    },
    {
     "cell_type": "code",
     "collapsed": false,
     "input": [
      "model = \"../Dymosims/IdealLT\"\n",
      "testModel = \"C:\\Users\\u0098668\\Documents\\Modelica\\DeSchipjes\\Dymosims/ChuaCircuit\"\n",
      "\n",
      "results_dir = \"Results\"\n",
      "StopTime=2500"
     ],
     "language": "python",
     "metadata": {},
     "outputs": [],
     "prompt_number": 2
    },
    {
     "cell_type": "code",
     "collapsed": false,
     "input": [
      "with simulators.dymosim(results_dir=results_dir, StopTime=StopTime) as simulator:\n",
      "    sim = simulator.run(testModel)\n",
      "    sim.wait()"
     ],
     "language": "python",
     "metadata": {},
     "outputs": [],
     "prompt_number": 3
    },
    {
     "cell_type": "code",
     "collapsed": false,
     "input": [],
     "language": "python",
     "metadata": {},
     "outputs": []
    }
   ],
   "metadata": {}
  }
 ]
}