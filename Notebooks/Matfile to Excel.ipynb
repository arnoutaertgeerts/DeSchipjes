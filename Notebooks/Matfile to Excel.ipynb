{
 "metadata": {
  "name": "",
  "signature": "sha256:a7a378bfe32554da20c64740d6bdd264157e49998589613f04498c424a93d796"
 },
 "nbformat": 3,
 "nbformat_minor": 0,
 "worksheets": [
  {
   "cells": [
    {
     "cell_type": "markdown",
     "metadata": {},
     "source": [
      "Necessary Imports"
     ]
    },
    {
     "cell_type": "code",
     "collapsed": false,
     "input": [
      "from modelicares import SimRes\n",
      "%matplotlib inline\n",
      "import matplotlib.pyplot as plt\n",
      "import numpy as np\n",
      "import xlsxwriter\n",
      "import pandas as pd"
     ],
     "language": "python",
     "metadata": {},
     "outputs": [],
     "prompt_number": 1
    },
    {
     "cell_type": "markdown",
     "metadata": {},
     "source": [
      "Settings"
     ]
    },
    {
     "cell_type": "code",
     "collapsed": false,
     "input": [
      "# Location of the result file\n",
      "mat = r'../Results/Building140.mat'   \n",
      "\n",
      "# Keys to store in the excel file   \n",
      "keys = [                                 \n",
      "    'Time',\n",
      "    'building.heatingSystem.TSensor[1]',\n",
      "    'building.heatingSystem.TSensor[2]',\n",
      "    'building.heatingSystem.TSensor[3]',\n",
      "    'building.heatingSystem.TSensor[4]',\n",
      "    'building.heatingSystem.TSensor[5]',\n",
      "    'building.heatingSystem.TSensor[6]',\n",
      "    'building.heatingSystem.QHeaSys',\n",
      "    'sim.Te'\n",
      "]\n",
      "\n",
      "# Location of the excel file\n",
      "excel = r'old.xlsx'                  "
     ],
     "language": "python",
     "metadata": {},
     "outputs": [],
     "prompt_number": 2
    },
    {
     "cell_type": "markdown",
     "metadata": {},
     "source": [
      "Create the excel file"
     ]
    },
    {
     "cell_type": "code",
     "collapsed": false,
     "input": [
      "data = SimRes(mat)\n",
      "\n",
      "workbook = xlsxwriter.Workbook(excel)\n",
      "worksheet = workbook.add_worksheet()\n",
      "\n",
      "dictionary = dict()\n",
      "\n",
      "for k in keys:\n",
      "    # Change to floats because of bug in natu...\n",
      "    floats = []\n",
      "    for d in data[k].values():\n",
      "        floats.append(float(d))\n",
      "    # Add to dictionary\n",
      "    dictionary[k] = floats\n",
      "    \n",
      "dataframe = pd.DataFrame.from_dict(dictionary)\n",
      "writer = pd.ExcelWriter(excel)\n",
      "dataframe.to_excel(writer,'Sheet1')\n",
      "writer.save()"
     ],
     "language": "python",
     "metadata": {},
     "outputs": [],
     "prompt_number": 3
    },
    {
     "cell_type": "code",
     "collapsed": false,
     "input": [],
     "language": "python",
     "metadata": {},
     "outputs": [],
     "prompt_number": 3
    }
   ],
   "metadata": {}
  }
 ]
}